{
 "cells": [
  {
   "cell_type": "code",
   "execution_count": 39,
   "id": "4a341fe3-cccd-45ea-ba84-d5dd0aa2db99",
   "metadata": {},
   "outputs": [],
   "source": [
    "def HuffmanCode(prob_dist, code=None):\n",
    "    \"\"\"\n",
    "    Génère le code de Huffman pour une distribution de probabilités donnée.\n",
    "    \n",
    "    L'algorithme est récursif et fonctionne en combinant les deux symboles \n",
    "    de plus faible probabilité jusqu'à ce qu'il ne reste que deux éléments.\n",
    "\n",
    "    :param prob_dist: Dictionnaire où les clés sont les symboles et les valeurs leurs probabilités.\n",
    "    :param code: Dictionnaire contenant les codes générés pour chaque symbole (utilisé en récursion).\n",
    "    :return: Dictionnaire associant chaque symbole à son code binaire de Huffman.\n",
    "    \"\"\"\n",
    "    if code is None:  # Initialisation du dictionnaire des codes s'il est vide\n",
    "        code = {key: \"\" for key in prob_dist}\n",
    "    \n",
    "    if len(prob_dist) == 2:  # Cas de base : lorsqu'il ne reste que deux symboles\n",
    "        prob_dist = dict(sorted(prob_dist.items(), key=lambda item: item[1], reverse=True))\n",
    "        keys = list(prob_dist.keys())\n",
    "        \n",
    "        # Attribution des bits aux deux derniers symboles\n",
    "        for i in range(len(keys[-2])):\n",
    "            code[keys[-2][i]] += '0'\n",
    "        \n",
    "        for i in range(len(keys[-1])):\n",
    "            code[keys[-1][i]] += '1'\n",
    "        \n",
    "    else:\n",
    "        # Tri des symboles par ordre décroissant de probabilité\n",
    "        prob_dist = dict(sorted(prob_dist.items(), key=lambda item: item[1], reverse=True))\n",
    "        \n",
    "        # Fusion des deux symboles les moins probables\n",
    "        q = list(prob_dist.values())[-1] + list(prob_dist.values())[-2]  # Somme des deux plus faibles probabilités\n",
    "        new_key = list(prob_dist.keys())[-2] + list(prob_dist.keys())[-1]  # Concaténation des deux clés\n",
    "        \n",
    "        # Suppression des deux derniers éléments du dictionnaire initial et ajout de la nouvelle combinaison\n",
    "        prob_dist_trimmed = dict(list(prob_dist.items())[:-2])\n",
    "        \n",
    "        # Appel récursif avec le nouveau dictionnaire fusionné\n",
    "        d = HuffmanCode(prob_dist_trimmed | {new_key: q}, code)\n",
    "        \n",
    "        # Réattribution des codes aux symboles\n",
    "        keys = list(prob_dist.keys())\n",
    "        \n",
    "        for i in range(len(keys[-2])):\n",
    "            code[keys[-2][i]] += '0'\n",
    "        \n",
    "        for i in range(len(keys[-1])):\n",
    "            code[keys[-1][i]] += '1'\n",
    "        \n",
    "        return code"
   ]
  },
  {
   "cell_type": "code",
   "execution_count": 40,
   "id": "7bc03a64-3b36-4194-adae-34860c73a43d",
   "metadata": {},
   "outputs": [
    {
     "name": "stdout",
     "output_type": "stream",
     "text": [
      "Distribution de probabilité :  {'a': 0.25, 'b': 0.35, 'c': 0.4}\n",
      "Son code de Huffman  {'a': '01', 'b': '00', 'c': '1'}\n",
      "\n",
      "Distribution de probabilité :  {'a': 0.32, 'b': 0.3, 'c': 0.23, 'd': 0.12, 'e': 0.03}\n",
      "Son code de Huffman  {'a': '00', 'b': '01', 'c': '10', 'd': '110', 'e': '111'}\n",
      "\n",
      "Distribution de probabilité :  {'a': 1/2, 'b': 1/4, 'c': 1/8, 'd': 1/16, 'e': 1/32, 'f': 1/32}\n",
      "Son code de Huffman  {'a': '0', 'b': '10', 'c': '110', 'd': '1110', 'e': '11110', 'f': '11111'}\n",
      "\n",
      "Distribution de probabilité :  {'b': 0.25, 'c': 0.12, 'd': 0.0625, 'e': 0.03125, 'f': 0.03025, 'a': 0.51}\n",
      "Son code de Huffman  {'b': '10', 'c': '110', 'd': '1110', 'e': '11110', 'f': '11111', 'a': '0'}\n",
      "\n",
      "Distribution de probabilité :  {'b': 3/10, 'a': 1/5, 'd': 1/5, 'c': 1/10, 'e': 1/10, 'f': 1/10}\n",
      "Son code de Huffman  {'b': '00', 'a': '10', 'd': '11', 'c': '011', 'e': '0100', 'f': '0101'}\n",
      "\n",
      "Distribution de probabilité :  {'a': 0.5, 'b': 0.25, 'c': 0.25}\n",
      "Son code de Huffman  {'a': '0', 'b': '10', 'c': '11'}\n"
     ]
    }
   ],
   "source": [
    "#code de Huffman\n",
    "\n",
    "print(\"Distribution de probabilité : \", {\"a\" : round(0.25, 2), \"b\" : round(0.35, 2), \"c\" : round(0.4, 2)})\n",
    "print(\"Son code de Huffman \", HuffmanCode({\"a\" : 0.25, \"b\" : 0.35, \"c\" : 0.4}))\n",
    "print(\"\")\n",
    "\n",
    "print(\"Distribution de probabilité : \", {\"a\" : round(0.32, 2), \"b\" : round(0.3, 2), \"c\" : round(0.23, 2), \"d\" : round(0.12, 2), \"e\" : round(0.03, 2)})\n",
    "print(\"Son code de Huffman \", HuffmanCode({\"a\" : 0.32, \"b\" : 0.3, \"c\" : 0.23, \"d\" : 0.12, \"e\" : 0.03}))\n",
    "print(\"\")\n",
    "\n",
    "print(\"Distribution de probabilité : \", {\"a\" : QQ(1/2), \"b\" : QQ(1/4), \"c\" : QQ(1/8), \"d\" : QQ(1/16), \"e\" : QQ(1/32), \"f\" : QQ(1/32)})\n",
    "print(\"Son code de Huffman \", HuffmanCode({\"a\" : QQ(1/2), \"b\" : QQ(1/4), \"c\" : QQ(1/8), \"d\" : QQ(1/16), \"e\" : QQ(1/32), \"f\" : QQ(1/32)}))\n",
    "print(\"\")\n",
    "\n",
    "print(\"Distribution de probabilité : \", {\"b\" : round(0.25, 2), \"c\" : round(0.125, 2), \"d\" : round(0.0625, 4), \"e\" : round(0.03125, 5), \"f\" : round(0.03025, 5), \"a\" : round(0.51, 2)})\n",
    "print(\"Son code de Huffman \", HuffmanCode({\"b\" : 0.25, \"c\" : 0.125, \"d\" : 0.0625, \"e\" : 0.03125, \"f\" : 0.03025, \"a\" : 0.51}))\n",
    "print(\"\")\n",
    "\n",
    "print(\"Distribution de probabilité : \", {\"b\" : QQ(3/10), \"a\" : QQ(2/10), \"d\" : QQ(2/10), \"c\" : QQ(1/10), \"e\" : QQ(1/10), \"f\" : QQ(1/10)})\n",
    "print(\"Son code de Huffman \", HuffmanCode({\"b\" : QQ(3/10), \"a\" : QQ(2/10), \"d\" : QQ(2/10), \"c\" : QQ(1/10), \"e\" : QQ(1/10), \"f\" : QQ(1/10)}))\n",
    "print(\"\")\n",
    "\n",
    "print(\"Distribution de probabilité : \", {\"a\" : round(0.5, 2), \"b\" : round(0.25, 2), \"c\" : round(0.25, 2)})\n",
    "print(\"Son code de Huffman \", HuffmanCode({\"a\" : 0.5, \"b\" : 0.25, \"c\" : 0.25}))"
   ]
  },
  {
   "cell_type": "code",
   "execution_count": null,
   "id": "1eaaf93b-5127-4de7-8d05-4233c1e22fb8",
   "metadata": {},
   "outputs": [],
   "source": []
  },
  {
   "cell_type": "code",
   "execution_count": 41,
   "id": "e231006c-8fcd-48d8-9d92-596af44a509b",
   "metadata": {},
   "outputs": [
    {
     "name": "stdout",
     "output_type": "stream",
     "text": [
      "Distribution de probabilité :  {'a': 1/2, 'b': 1/4, 'c': 1/8, 'd': 1/16, 'e': 1/32, 'f': 1/32}\n",
      "Son code de Huffman  {'a': '0', 'b': '10', 'c': '110', 'd': '1110', 'e': '11110', 'f': '11111'}\n",
      "\n"
     ]
    }
   ],
   "source": [
    "print(\"Distribution de probabilité : \", {\"a\" : QQ(1/2), \"b\" : QQ(1/4), \"c\" : QQ(1/8), \"d\" : QQ(1/16), \"e\" : QQ(1/32), \"f\" : QQ(1/32)})\n",
    "print(\"Son code de Huffman \", HuffmanCode({\"a\" : QQ(1/2), \"b\" : QQ(1/4), \"c\" : QQ(1/8), \"d\" : QQ(1/16), \"e\" : QQ(1/32), \"f\" : QQ(1/32)}))\n",
    "print(\"\")\n"
   ]
  },
  {
   "cell_type": "code",
   "execution_count": null,
   "id": "eb5a4ad5-f2c9-4f49-98eb-2a9b7c420048",
   "metadata": {},
   "outputs": [],
   "source": []
  }
 ],
 "metadata": {
  "kernelspec": {
   "display_name": "SageMath 9.5",
   "language": "sage",
   "name": "sagemath"
  },
  "language_info": {
   "codemirror_mode": {
    "name": "ipython",
    "version": 3
   },
   "file_extension": ".py",
   "mimetype": "text/x-python",
   "name": "python",
   "nbconvert_exporter": "python",
   "pygments_lexer": "ipython3",
   "version": "3.10.12"
  }
 },
 "nbformat": 4,
 "nbformat_minor": 5
}
