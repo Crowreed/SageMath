{
 "cells": [
  {
   "cell_type": "code",
   "execution_count": 1,
   "id": "1274b599",
   "metadata": {},
   "outputs": [],
   "source": [
    "#Ceci sera le notebook de ce que je fais en sagemath"
   ]
  },
  {
   "cell_type": "code",
   "execution_count": null,
   "id": "91d6b336",
   "metadata": {},
   "outputs": [],
   "source": []
  }
 ],
 "metadata": {
  "kernelspec": {
   "display_name": "SageMath 9.5",
   "language": "sage",
   "name": "sagemath"
  },
  "language_info": {
   "codemirror_mode": {
    "name": "ipython",
    "version": 3
   },
   "file_extension": ".py",
   "mimetype": "text/x-python",
   "name": "python",
   "nbconvert_exporter": "python",
   "pygments_lexer": "ipython3",
   "version": "3.10.12"
  }
 },
 "nbformat": 4,
 "nbformat_minor": 5
}
